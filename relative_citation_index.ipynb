{
 "cells": [
  {
   "metadata": {},
   "cell_type": "markdown",
   "source": [
    "## Literature Study Preprocessing\n",
    "This notebook is used to perform preprocessing of the literature on the topic of interest. The goal is to reduce the data set to the most relevant literature by adding a relative citation index. Then the top literature is selected for further analysis."
   ],
   "id": "bca99307ecdf15de"
  },
  {
   "metadata": {},
   "cell_type": "markdown",
   "source": "## Clean the data\n",
   "id": "fbb31667b5456c40"
  },
  {
   "metadata": {
    "ExecuteTime": {
     "end_time": "2025-03-05T15:18:01.785852Z",
     "start_time": "2025-03-05T15:17:58.661416Z"
    }
   },
   "cell_type": "code",
   "source": [
    "import sys\n",
    "from time import sleep\n",
    "# !{sys.executable} -m pip install crossrefapi\n",
    "!{sys.executable} -m pip install crossref-commons"
   ],
   "id": "ad17645dfa60d79d",
   "outputs": [
    {
     "name": "stdout",
     "output_type": "stream",
     "text": [
      "Requirement already satisfied: crossref-commons in /opt/conda/lib/python3.12/site-packages (0.0.7)\r\n",
      "Requirement already satisfied: ratelimit>=2.2.1 in /opt/conda/lib/python3.12/site-packages (from crossref-commons) (2.2.1)\r\n",
      "Requirement already satisfied: requests>=2.18.4 in /opt/conda/lib/python3.12/site-packages (from crossref-commons) (2.32.3)\r\n",
      "Requirement already satisfied: charset_normalizer<4,>=2 in /opt/conda/lib/python3.12/site-packages (from requests>=2.18.4->crossref-commons) (3.4.1)\r\n",
      "Requirement already satisfied: idna<4,>=2.5 in /opt/conda/lib/python3.12/site-packages (from requests>=2.18.4->crossref-commons) (3.10)\r\n",
      "Requirement already satisfied: urllib3<3,>=1.21.1 in /opt/conda/lib/python3.12/site-packages (from requests>=2.18.4->crossref-commons) (1.26.16)\r\n",
      "Requirement already satisfied: certifi>=2017.4.17 in /opt/conda/lib/python3.12/site-packages (from requests>=2.18.4->crossref-commons) (2024.12.14)\r\n"
     ]
    }
   ],
   "execution_count": 21
  },
  {
   "metadata": {
    "ExecuteTime": {
     "end_time": "2025-03-05T15:18:13.665595Z",
     "start_time": "2025-03-05T15:18:13.640051Z"
    }
   },
   "cell_type": "code",
   "source": [
    "from datetime import datetime\n",
    "import pandas as pd\n",
    "import crossref_commons\n",
    "# from crossref.restful import Works\n",
    "from crossref_commons.iteration import iterate_publications_as_json\n",
    "from crossref_commons.retrieval import get_entity\n",
    "from crossref_commons.types import EntityType, OutputType\n",
    "from time import sleep\n"
   ],
   "id": "6437918934cbff31",
   "outputs": [],
   "execution_count": 22
  },
  {
   "metadata": {
    "ExecuteTime": {
     "end_time": "2025-03-05T15:18:17.859280Z",
     "start_time": "2025-03-05T15:18:17.690380Z"
    }
   },
   "cell_type": "code",
   "source": [
    "df = pd.read_csv('data/pre-selected-data.csv', delimiter='|')\n",
    "df['relative_citation_index'] = df['relative_citation_index'].astype(float)\n",
    "df.head(1)"
   ],
   "id": "d22295c269d866f9",
   "outputs": [
    {
     "data": {
      "text/plain": [
       "   #                                              title  \\\n",
       "0  1  A cloud simulation based environment for multi...   \n",
       "\n",
       "                                            abstract  \\\n",
       "0  Multi-disciplinary virtual prototype (MDVP) ba...   \n",
       "\n",
       "                                               venue  year  \\\n",
       "0  International Conference on Computer Supported...  2017   \n",
       "\n",
       "                          doi  \\\n",
       "0  10.1109/CSCWD.2017.8066735   \n",
       "\n",
       "                                             authors  relative_citation_index  \\\n",
       "0  Mei Wang, Tingyu Lin, Lichao Wei, Chao Ruan, L...                      0.0   \n",
       "\n",
       "   relevance_score  \n",
       "0                3  "
      ],
      "text/html": [
       "<div>\n",
       "<style scoped>\n",
       "    .dataframe tbody tr th:only-of-type {\n",
       "        vertical-align: middle;\n",
       "    }\n",
       "\n",
       "    .dataframe tbody tr th {\n",
       "        vertical-align: top;\n",
       "    }\n",
       "\n",
       "    .dataframe thead th {\n",
       "        text-align: right;\n",
       "    }\n",
       "</style>\n",
       "<table border=\"1\" class=\"dataframe\">\n",
       "  <thead>\n",
       "    <tr style=\"text-align: right;\">\n",
       "      <th></th>\n",
       "      <th>#</th>\n",
       "      <th>title</th>\n",
       "      <th>abstract</th>\n",
       "      <th>venue</th>\n",
       "      <th>year</th>\n",
       "      <th>doi</th>\n",
       "      <th>authors</th>\n",
       "      <th>relative_citation_index</th>\n",
       "      <th>relevance_score</th>\n",
       "    </tr>\n",
       "  </thead>\n",
       "  <tbody>\n",
       "    <tr>\n",
       "      <th>0</th>\n",
       "      <td>1</td>\n",
       "      <td>A cloud simulation based environment for multi...</td>\n",
       "      <td>Multi-disciplinary virtual prototype (MDVP) ba...</td>\n",
       "      <td>International Conference on Computer Supported...</td>\n",
       "      <td>2017</td>\n",
       "      <td>10.1109/CSCWD.2017.8066735</td>\n",
       "      <td>Mei Wang, Tingyu Lin, Lichao Wei, Chao Ruan, L...</td>\n",
       "      <td>0.0</td>\n",
       "      <td>3</td>\n",
       "    </tr>\n",
       "  </tbody>\n",
       "</table>\n",
       "</div>"
      ]
     },
     "execution_count": 23,
     "metadata": {},
     "output_type": "execute_result"
    }
   ],
   "execution_count": 23
  },
  {
   "metadata": {
    "ExecuteTime": {
     "end_time": "2025-03-05T15:18:20.589287Z",
     "start_time": "2025-03-05T15:18:20.543594Z"
    }
   },
   "cell_type": "code",
   "source": "df.shape",
   "id": "44f040a04944cf20",
   "outputs": [
    {
     "data": {
      "text/plain": [
       "(283, 9)"
      ]
     },
     "execution_count": 24,
     "metadata": {},
     "output_type": "execute_result"
    }
   ],
   "execution_count": 24
  },
  {
   "metadata": {
    "ExecuteTime": {
     "end_time": "2025-03-05T15:33:25.336190Z",
     "start_time": "2025-03-05T15:22:07.075501Z"
    }
   },
   "cell_type": "code",
   "source": [
    "errors = []\n",
    "df['relative_citation_index'] = df['relative_citation_index'].apply(pd.to_numeric)\n",
    "for index, row in df.iterrows():\n",
    "    # if pd.isna(row['doi']):\n",
    "    #     print(f\"No DOI available for paper {row['title']}\")\n",
    "    try:\n",
    "        filters = {'from-pub-date': row['year'], 'until-pub-date': row['year']}\n",
    "        queries = {'query.title': row['title'], 'query.author': row['authors'] }\n",
    "        pub = list(iterate_publications_as_json(max_results=1, queries=queries, filter=filters))[0]\n",
    "        df.at[index, 'doi'] = pub['DOI']\n",
    "        df.at[index, 'relative_citation_index'] = pub['is-referenced-by-count'] / (datetime.now().year - row['year'])\n",
    "        df.at[index, 'doi'] = pub['DOI']\n",
    "        # if pd.isna(row['abstract']):\n",
    "        #     df.at[index, 'abstract'] = pub['abstract']\n",
    "    except Exception as e:\n",
    "        print(f\"Could not find paper {row['title']}, Error: {e}\")\n",
    "        errors.append(row['title'])\n",
    "    # else:\n",
    "    #     try:\n",
    "    #         pub = get_entity(row['doi'], EntityType.PUBLICATION, OutputType.JSON)\n",
    "    #         # row['relative_citation_index'] = pub['is-referenced-by-count'] / (datetime.now().year - row['year'])\n",
    "    #         df.at[index, 'relative_citation_index'] = pub['is-referenced-by-count'] / (datetime.now().year - row['year'])\n",
    "    #     except ValueError as e:\n",
    "    #         print(f\"Could not find paper {row['title']}, Error: {e}\")\n",
    "    #         errors.append(row['title'])\n",
    "    print(row['title'], row['relative_citation_index'], row['doi'])"
   ],
   "id": "a22b86e2ba04ead7",
   "outputs": [
    {
     "name": "stdout",
     "output_type": "stream",
     "text": [
      "Could not find paper A cloud simulation based environment for multi-disciplinary collaborative simulation and optimization, Error: API returned code 504\n",
      "A cloud simulation based environment for multi-disciplinary collaborative simulation and optimization 0.375 10.1109/CSCWD.2017.8066735\n",
      "Optimization of performance and scheduling of HPC applications in cloud using cloudsim and scheduling approach 0.625 10.1109/ICIOTA.2017.8073634\n",
      "Could not find paper GPUCloudSim: an extension of CloudSim for modeling and simulation of GPUs in cloud data centers, Error: 'abstract'\n",
      "GPUCloudSim: an extension of CloudSim for modeling and simulation of GPUs in cloud data centers 2.7142857142857144 10.1007/s11227-018-2636-7\n",
      "Study on fundamental usage of CloudSim simulator and algorithms of resource allocation in cloud computing 1.625 10.1109/ICCCNT.2017.8203998\n",
      "Adaptive cloud simulation using position based fluids 1.2 10.1002/cav.1657\n",
      "Modifying CloudSim to accurately simulate interactive services for cloud autoscaling 0.75 10.1002/cpe.3983\n",
      "MC-Sim: a mobile cloud simulation toolkit based on CloudSim 0.14285714285714285 10.1504/IJCAT.2018.10010972\n",
      "Could not find paper Implementation and performance analysis of various VM placement strategies in CloudSim, Error: 'abstract'\n",
      "Implementation and performance analysis of various VM placement strategies in CloudSim 5.9 10.1186/s13677-015-0045-5\n",
      "A two-stage stochastic model for cloud computing simulation of resource efficiency cost analysis 0.125 10.1109/COMPCOMM.2017.8322939\n",
      "Does CloudSim Accurately Model Micro Datacenters? 0.875 10.1109/CLOUD.2017.97\n",
      "A Review of Cloud Computing Simulation Platforms and Related Environments 0.0 10.5220/0006373006510663\n",
      "Design and evaluation of elastic media resource allocation algorithms using CloudSim extensions 1.1 10.1109/CNSM.2015.7367377\n",
      "CloudSimNFV: Modeling and Simulation of Energy-Efficient NFV in Cloud Data Centers 0.0 10.1016/b978-0-12-801476-9.00008-2\n",
      "Multi-node Multi-agent Cloud Simulation: Approximating Synchronisation 0.0 10.1109/eScience.2015.32\n",
      "Could not find paper Energy modeling in cloud simulation frameworks, Error: 'abstract'\n",
      "Energy modeling in cloud simulation frameworks 0.0 10.1016/j.future.2017.06.016\n",
      "Round robin selection of datacenter simulation technique cloudsim and cloud analsyt architecture and making it efficient by using load balancing technique 0.0 nan\n",
      "Virtual Machine Allocation Policy in Cloud Computing Using CloudSim in Java 0.0 10.14257/IJGDC.2015.8.1.14\n",
      "EdgeCloudSim: An environment for performance evaluation of Edge Computing systems 0.0 10.1002/ett.3493\n",
      "GreenCloud simulation QoSbox in cloud computing 0.0 10.1109/SIU.2016.7496160\n",
      "CloudSim Plus: A cloud computing simulation framework pursuing software engineering principles for improved modularity, extensibility and correctness 0.0 10.23919/INM.2017.7987304\n",
      "CloudTax: A CloudSim-Extension for Simulating Tax Systems on Cloud Markets 0.0 10.1109/CloudCom.2016.0021\n",
      "A Study on the Fundamental Properties, Features and Usage of Cloud Simulators 0.0 10.1109/PLATCON.2016.7456782\n",
      "Could not find paper Usage of Cloud Computing Simulators and Future Systems For Computational Research, Error: API returned code 504\n",
      "Usage of Cloud Computing Simulators and Future Systems For Computational Research 0.0 nan\n",
      "Could not find paper Considering I/O Processing in CloudSim for Performance and Energy Evaluation, Error: 'abstract'\n",
      "Considering I/O Processing in CloudSim for Performance and Energy Evaluation 0.0 10.1007/978-3-319-46079-6_40\n",
      "Performance and analysis of various fault-tolerant algorithms for cloud computing under CloudSim 0.0 10.1109/ICCONS.2017.8250652\n",
      "Integrating I/Os in Cloudsim for Performance and Energy Estimation 0.0 10.1145/3041710.3041715\n",
      "Enhanced Framework for IoT Applications on Python Based Cloud Simulator (PCS) 0.0 10.1109/CCEM.2015.24\n",
      "GloudSim: Google trace based cloud simulator with virtual machines 0.0 10.1002/spe.2303\n",
      "An HLA-Based Cloud Simulator for Mobile Cloud Environments 0.0 10.1109/DS-RT.2016.23\n",
      "Multi-core Processors in Cloud Computing using Cloudsim 0.0 10.5120/IJCA2016908869\n",
      "A Study on Cloud Simulation Tools 0.0 10.5120/20220-2500\n",
      "Nutshell: Cloud Simulation and Current Trends 0.0 10.1109/SmartCity.2015.51\n",
      "Implementation of an EDF algorithm in a cloud computing environment using the CloudSim Tool 0.0 10.1109/ICCNEEE.2015.7381360\n",
      "HPC simulations of brownout: A noninteracting particles dynamic model 0.0 10.1177/1094342020905971\n",
      "ContainerCloudSim: An environment for modeling and simulation of containers in cloud data centers 0.0 10.1002/spe.2422\n",
      "Teaching Secure Cloud Computing Concepts with Open Source CloudSim Environment 0.0 10.1109/COMPSAC.2016.201\n",
      "PICS: A Public IaaS Cloud Simulator 0.0 10.1109/CLOUD.2015.37\n",
      "Locality Sim: Cloud Simulator with Data Locality 0.0 10.5121/IJCCSA.2016.6602\n",
      "Creating Cloud Simulations for Urban Logistics 0.0 10.11128/arep.59.a59059\n",
      "Secure Cloud Simulation Using Hybrid Algorithm 0.0 nan\n",
      "Cloud Simulation and Virtualization for Testing of Critical Energy Infrastructure Components 0.0 10.47839/IJC.20.1.2100\n",
      "Octree‐based point cloud simulation to assess the readiness of highway infrastructure for autonomous vehicles 0.0 10.1111/mice.12643\n",
      "CloudSimHypervisor: Modeling and Simulating Network Slicing in Software-Defined Cloud Networks 0.0 10.1109/ACCESS.2021.3079501\n",
      "Could not find paper Cloudsim for a Hierarchical Load Balancing Strategy, Error: 'abstract'\n",
      "Cloudsim for a Hierarchical Load Balancing Strategy 0.0 10.1007/978-3-030-73103-8_20\n",
      "Could not find paper Scheduling Cloudlets to Improve Response Time Using CloudSim Simulator, Error: 'abstract'\n",
      "Scheduling Cloudlets to Improve Response Time Using CloudSim Simulator 0.0 10.1007/978-981-33-4084-8_46\n",
      "An Efficient Resource Utilization in VM Live Migration Techniques using CloudSim a Simulation tool 0.0 10.1088/1757-899X/1116/1/012148\n",
      "Could not find paper A modelling & Simulation via CloudSim for Live Migration in Virtual Machines, Error: API returned code 504\n",
      "A modelling & Simulation via CloudSim for Live Migration in Virtual Machines 0.0 10.1088/1757-899X/1116/1/012138\n",
      "Data-driven cloud simulation architecture for automated flexible production lines: application in real smart factories 0.0 10.1080/00207543.2021.1931977\n",
      "A Comprehensive Survey On Cloud Computing Simulators 0.0 10.15294/SJI.V8I1.28878\n",
      "Could not find paper Task offloading concept using cloud simulations in mobile computing, Error: 'abstract'\n",
      "Task offloading concept using cloud simulations in mobile computing 0.0 10.1504/IJSCC.2021.10037817\n",
      "Comparative Study On Cloud Computing Simulation Platforms 0.0 10.46300/91015.2020.14.22\n",
      "Actuator behaviour modelling in IoT-Fog-Cloud simulation 0.0 10.7717/peerj-cs.651\n",
      "Could not find paper Renovation of EdgeCloudSim: An Efficient Discrete-Event Approach, Error: API returned code 504\n",
      "Renovation of EdgeCloudSim: An Efficient Discrete-Event Approach 0.0 10.1109/FMEC54266.2021.9732572\n",
      "A Parallel Event System for Large-Scale Cloud Simulations in DISSECT-CF 0.0 10.14232/actacyb.287937\n",
      "Evaluation of Tropical Cloud Simulations between CMIP6 Models and Satellite Observations CyberTraining: Big Data + High-Performance Computing + Atmospheric Sciences 0.0 10.13016/M26GTH-BBXC\n",
      "Cloud Simulation for Continuous Integration and Deployment in Robotics 0.0 10.1109/INDIN45523.2021.9557476\n",
      "Could not find paper Peer Review #2 of \"Actuator behaviour modelling in IoT-Fog-Cloud simulation (v0.1)\", Error: 'abstract'\n",
      "Peer Review #2 of \"Actuator behaviour modelling in IoT-Fog-Cloud simulation (v0.1)\" 0.0 10.7287/peerj-cs.651v0.1/reviews/2\n",
      "Could not find paper A Study on Energy-Aware Virtual Machine Consolidation Policies in Cloud Data Centers Using Cloudsim Toolkit, Error: 'abstract'\n",
      "A Study on Energy-Aware Virtual Machine Consolidation Policies in Cloud Data Centers Using Cloudsim Toolkit 0.0 10.1007/978-3-030-81462-5_30\n",
      "Data center simulation for the BM@N experiment of the NICA project 0.0 10.1063/5.0063338\n",
      "A network migrating framework based on CloudSim 0.0 10.1117/12.2627859\n",
      "Could not find paper Stochastic Galerkin method for cloud simulation. Part II: a fully random Navier-Stokes-cloud model, Error: 'abstract'\n",
      "Stochastic Galerkin method for cloud simulation. Part II: a fully random Navier-Stokes-cloud model 0.0 10.1016/j.jcp.2023.111987\n",
      "Could not find paper CloudSimSFC: Simulating Service Function chains in Multi-Domain Service Networks, Error: 'abstract'\n",
      "CloudSimSFC: Simulating Service Function chains in Multi-Domain Service Networks 0.0 10.1016/j.simpat.2022.102597\n",
      "Extending CloudSim to simulate sensor networks 0.0 10.1177/00375497221105530\n",
      "Strategies for Integrating Deep Learning Surrogate Models with HPC Simulation Applications 0.0 10.1109/IPDPSW55747.2022.00222\n",
      "Evaluate the Security Models Performances and Limitations of the Vehicular Network VANETcloudSim 0.0 10.12720/jcm.18.4.221-227\n",
      "Research on the improvement of EdgeCloudSim's task scheduling framework 0.0 10.1117/12.2668027\n",
      "CloudSimSC: A Toolkit for Modeling and Simulation of Serverless Computing Environments 0.0 10.48550/arXiv.2309.10671\n",
      "3d Point Cloud Simulation for Above-Ground Forest Biomass Estimation 0.0 10.1109/IGARSS52108.2023.10282570\n",
      "CloudSim Express: A Novel Framework for Rapid Low Code Simulation of Cloud Computing Environments 0.0 10.48550/arXiv.2311.00974\n",
      "Could not find paper Integrating OpenAI Gym and CloudSim Plus: A simulation environment for DRL Agent training in energy-driven cloud scaling, Error: 'abstract'\n",
      "Integrating OpenAI Gym and CloudSim Plus: A simulation environment for DRL Agent training in energy-driven cloud scaling 0.0 10.1016/j.simpat.2023.102858\n",
      "WCSim: A Cloud Computing Simulator with Support for Bag of Tasks Workflows 0.0 10.1109/SBAC-PAD59825.2023.00032\n",
      "Could not find paper An Automatic Deployment Method for Hybrid Cloud Simulation Platform, Error: 'abstract'\n",
      "An Automatic Deployment Method for Hybrid Cloud Simulation Platform 0.0 10.1007/978-981-99-7872-4_10\n",
      "Agent-based cloud simulation model for resource management 0.0 10.1186/s13677-023-00540-5\n",
      "PyCloudSim: Modernized Cloud Computing Simulation Framework with the Incorporation of SFC 0.0 10.1109/NFV-SDN59219.2023.10329606\n",
      "Bazaar-Extension: A CloudSim Extension for Simulating Negotiation Based Resource Allocations 0.0 10.1109/SCC.2016.62\n",
      "Improved scheduling algorithm in VCL Cloud computing environment on CloudSim 0.0 10.1109/HPCSim.2015.7237047\n",
      "Assessing Effects of Asymmetries, Dynamics, and Failures on a Cloud Simulator 0.0 10.1002/HTTPS://DX.DOI.ORG/10.6028/NIST.TN.1857\n",
      "Could not find paper A SLA-based scheduling approach for multi-tenant cloud simulation, Error: API returned code 504\n",
      "A SLA-based scheduling approach for multi-tenant cloud simulation 0.0 10.1109/CSCWD.2015.7231026\n",
      "CloudSimDisk: Energy-Aware Storage Simulation in CloudSim 0.0 10.1109/UCC.2015.15\n"
     ]
    },
    {
     "ename": "KeyboardInterrupt",
     "evalue": "",
     "output_type": "error",
     "traceback": [
      "\u001B[0;31m---------------------------------------------------------------------------\u001B[0m",
      "\u001B[0;31mKeyboardInterrupt\u001B[0m                         Traceback (most recent call last)",
      "Cell \u001B[0;32mIn[26], line 9\u001B[0m\n\u001B[1;32m      7\u001B[0m filters \u001B[38;5;241m=\u001B[39m {\u001B[38;5;124m'\u001B[39m\u001B[38;5;124mfrom-pub-date\u001B[39m\u001B[38;5;124m'\u001B[39m: row[\u001B[38;5;124m'\u001B[39m\u001B[38;5;124myear\u001B[39m\u001B[38;5;124m'\u001B[39m], \u001B[38;5;124m'\u001B[39m\u001B[38;5;124muntil-pub-date\u001B[39m\u001B[38;5;124m'\u001B[39m: row[\u001B[38;5;124m'\u001B[39m\u001B[38;5;124myear\u001B[39m\u001B[38;5;124m'\u001B[39m]}\n\u001B[1;32m      8\u001B[0m queries \u001B[38;5;241m=\u001B[39m {\u001B[38;5;124m'\u001B[39m\u001B[38;5;124mquery.title\u001B[39m\u001B[38;5;124m'\u001B[39m: row[\u001B[38;5;124m'\u001B[39m\u001B[38;5;124mtitle\u001B[39m\u001B[38;5;124m'\u001B[39m], \u001B[38;5;124m'\u001B[39m\u001B[38;5;124mquery.author\u001B[39m\u001B[38;5;124m'\u001B[39m: row[\u001B[38;5;124m'\u001B[39m\u001B[38;5;124mauthors\u001B[39m\u001B[38;5;124m'\u001B[39m] }\n\u001B[0;32m----> 9\u001B[0m pub \u001B[38;5;241m=\u001B[39m \u001B[38;5;28;43mlist\u001B[39;49m\u001B[43m(\u001B[49m\u001B[43miterate_publications_as_json\u001B[49m\u001B[43m(\u001B[49m\u001B[43mmax_results\u001B[49m\u001B[38;5;241;43m=\u001B[39;49m\u001B[38;5;241;43m1\u001B[39;49m\u001B[43m,\u001B[49m\u001B[43m \u001B[49m\u001B[43mqueries\u001B[49m\u001B[38;5;241;43m=\u001B[39;49m\u001B[43mqueries\u001B[49m\u001B[43m,\u001B[49m\u001B[43m \u001B[49m\u001B[38;5;28;43mfilter\u001B[39;49m\u001B[38;5;241;43m=\u001B[39;49m\u001B[43mfilters\u001B[49m\u001B[43m)\u001B[49m\u001B[43m)\u001B[49m[\u001B[38;5;241m0\u001B[39m]\n\u001B[1;32m     10\u001B[0m df\u001B[38;5;241m.\u001B[39mat[index, \u001B[38;5;124m'\u001B[39m\u001B[38;5;124mdoi\u001B[39m\u001B[38;5;124m'\u001B[39m] \u001B[38;5;241m=\u001B[39m pub[\u001B[38;5;124m'\u001B[39m\u001B[38;5;124mDOI\u001B[39m\u001B[38;5;124m'\u001B[39m]\n\u001B[1;32m     11\u001B[0m df\u001B[38;5;241m.\u001B[39mat[index, \u001B[38;5;124m'\u001B[39m\u001B[38;5;124mrelative_citation_index\u001B[39m\u001B[38;5;124m'\u001B[39m] \u001B[38;5;241m=\u001B[39m pub[\u001B[38;5;124m'\u001B[39m\u001B[38;5;124mis-referenced-by-count\u001B[39m\u001B[38;5;124m'\u001B[39m] \u001B[38;5;241m/\u001B[39m (datetime\u001B[38;5;241m.\u001B[39mnow()\u001B[38;5;241m.\u001B[39myear \u001B[38;5;241m-\u001B[39m row[\u001B[38;5;124m'\u001B[39m\u001B[38;5;124myear\u001B[39m\u001B[38;5;124m'\u001B[39m])\n",
      "File \u001B[0;32m/opt/conda/lib/python3.12/site-packages/crossref_commons/iteration.py:20\u001B[0m, in \u001B[0;36miterate_publications_as_json\u001B[0;34m(filter, queries, max_results)\u001B[0m\n\u001B[1;32m     18\u001B[0m queries[\u001B[38;5;124m'\u001B[39m\u001B[38;5;124mcursor\u001B[39m\u001B[38;5;124m'\u001B[39m] \u001B[38;5;241m=\u001B[39m cursor\n\u001B[1;32m     19\u001B[0m queries[\u001B[38;5;124m'\u001B[39m\u001B[38;5;124mrows\u001B[39m\u001B[38;5;124m'\u001B[39m] \u001B[38;5;241m=\u001B[39m \u001B[38;5;28mmin\u001B[39m(rows, toreturn)\n\u001B[0;32m---> 20\u001B[0m code, results \u001B[38;5;241m=\u001B[39m \u001B[43mremote_call\u001B[49m\u001B[43m(\u001B[49m\u001B[43mAPI_URL\u001B[49m\u001B[43m,\u001B[49m\u001B[43m \u001B[49m\u001B[38;5;124;43m'\u001B[39;49m\u001B[38;5;124;43mworks\u001B[39;49m\u001B[38;5;124;43m'\u001B[39;49m\u001B[43m,\u001B[49m\u001B[43m \u001B[49m\u001B[43mparams\u001B[49m\u001B[38;5;241;43m=\u001B[39;49m\u001B[43mqueries\u001B[49m\u001B[43m)\u001B[49m\n\u001B[1;32m     21\u001B[0m \u001B[38;5;28;01mif\u001B[39;00m code \u001B[38;5;241m!=\u001B[39m \u001B[38;5;241m200\u001B[39m:\n\u001B[1;32m     22\u001B[0m     \u001B[38;5;28;01mraise\u001B[39;00m \u001B[38;5;167;01mConnectionError\u001B[39;00m(\u001B[38;5;124m'\u001B[39m\u001B[38;5;124mAPI returned code \u001B[39m\u001B[38;5;132;01m{}\u001B[39;00m\u001B[38;5;124m'\u001B[39m\u001B[38;5;241m.\u001B[39mformat(code))\n",
      "File \u001B[0;32m/opt/conda/lib/python3.12/site-packages/ratelimit/decorators.py:80\u001B[0m, in \u001B[0;36mRateLimitDecorator.__call__.<locals>.wrapper\u001B[0;34m(*args, **kargs)\u001B[0m\n\u001B[1;32m     77\u001B[0m             \u001B[38;5;28;01mraise\u001B[39;00m RateLimitException(\u001B[38;5;124m'\u001B[39m\u001B[38;5;124mtoo many calls\u001B[39m\u001B[38;5;124m'\u001B[39m, period_remaining)\n\u001B[1;32m     78\u001B[0m         \u001B[38;5;28;01mreturn\u001B[39;00m\n\u001B[0;32m---> 80\u001B[0m \u001B[38;5;28;01mreturn\u001B[39;00m \u001B[43mfunc\u001B[49m\u001B[43m(\u001B[49m\u001B[38;5;241;43m*\u001B[39;49m\u001B[43margs\u001B[49m\u001B[43m,\u001B[49m\u001B[43m \u001B[49m\u001B[38;5;241;43m*\u001B[39;49m\u001B[38;5;241;43m*\u001B[39;49m\u001B[43mkargs\u001B[49m\u001B[43m)\u001B[49m\n",
      "File \u001B[0;32m/opt/conda/lib/python3.12/site-packages/crossref_commons/http_utils.py:17\u001B[0m, in \u001B[0;36mremote_call\u001B[0;34m(url, path, params, headers)\u001B[0m\n\u001B[1;32m     14\u001B[0m headers\u001B[38;5;241m.\u001B[39mupdate(COMMON_HEADERS)\n\u001B[1;32m     15\u001B[0m logging\u001B[38;5;241m.\u001B[39mdebug(\u001B[38;5;124m'\u001B[39m\u001B[38;5;124mCalling \u001B[39m\u001B[38;5;132;01m{}\u001B[39;00m\u001B[38;5;124m/\u001B[39m\u001B[38;5;132;01m{}\u001B[39;00m\u001B[38;5;124m with params \u001B[39m\u001B[38;5;132;01m{}\u001B[39;00m\u001B[38;5;124m and headers \u001B[39m\u001B[38;5;132;01m{}\u001B[39;00m\u001B[38;5;124m'\u001B[39m\u001B[38;5;241m.\u001B[39mformat(\n\u001B[1;32m     16\u001B[0m     url, path, params, headers))\n\u001B[0;32m---> 17\u001B[0m r \u001B[38;5;241m=\u001B[39m \u001B[43mrequests\u001B[49m\u001B[38;5;241;43m.\u001B[39;49m\u001B[43mget\u001B[49m\u001B[43m(\u001B[49m\u001B[38;5;124;43m'\u001B[39;49m\u001B[38;5;132;43;01m{}\u001B[39;49;00m\u001B[38;5;124;43m/\u001B[39;49m\u001B[38;5;132;43;01m{}\u001B[39;49;00m\u001B[38;5;124;43m'\u001B[39;49m\u001B[38;5;241;43m.\u001B[39;49m\u001B[43mformat\u001B[49m\u001B[43m(\u001B[49m\u001B[43murl\u001B[49m\u001B[43m,\u001B[49m\u001B[43m \u001B[49m\u001B[43mpath\u001B[49m\u001B[43m)\u001B[49m\u001B[43m,\u001B[49m\u001B[43m \u001B[49m\u001B[43mparams\u001B[49m\u001B[38;5;241;43m=\u001B[39;49m\u001B[43mparams\u001B[49m\u001B[43m,\u001B[49m\u001B[43m \u001B[49m\u001B[43mheaders\u001B[49m\u001B[38;5;241;43m=\u001B[39;49m\u001B[43mheaders\u001B[49m\u001B[43m)\u001B[49m\n\u001B[1;32m     18\u001B[0m r\u001B[38;5;241m.\u001B[39mencoding \u001B[38;5;241m=\u001B[39m \u001B[38;5;124m'\u001B[39m\u001B[38;5;124mUTF-8\u001B[39m\u001B[38;5;124m'\u001B[39m\n\u001B[1;32m     19\u001B[0m code \u001B[38;5;241m=\u001B[39m r\u001B[38;5;241m.\u001B[39mstatus_code\n",
      "File \u001B[0;32m/opt/conda/lib/python3.12/site-packages/requests/api.py:73\u001B[0m, in \u001B[0;36mget\u001B[0;34m(url, params, **kwargs)\u001B[0m\n\u001B[1;32m     62\u001B[0m \u001B[38;5;28;01mdef\u001B[39;00m\u001B[38;5;250m \u001B[39m\u001B[38;5;21mget\u001B[39m(url, params\u001B[38;5;241m=\u001B[39m\u001B[38;5;28;01mNone\u001B[39;00m, \u001B[38;5;241m*\u001B[39m\u001B[38;5;241m*\u001B[39mkwargs):\n\u001B[1;32m     63\u001B[0m \u001B[38;5;250m    \u001B[39m\u001B[38;5;124mr\u001B[39m\u001B[38;5;124;03m\"\"\"Sends a GET request.\u001B[39;00m\n\u001B[1;32m     64\u001B[0m \n\u001B[1;32m     65\u001B[0m \u001B[38;5;124;03m    :param url: URL for the new :class:`Request` object.\u001B[39;00m\n\u001B[0;32m   (...)\u001B[0m\n\u001B[1;32m     70\u001B[0m \u001B[38;5;124;03m    :rtype: requests.Response\u001B[39;00m\n\u001B[1;32m     71\u001B[0m \u001B[38;5;124;03m    \"\"\"\u001B[39;00m\n\u001B[0;32m---> 73\u001B[0m     \u001B[38;5;28;01mreturn\u001B[39;00m \u001B[43mrequest\u001B[49m\u001B[43m(\u001B[49m\u001B[38;5;124;43m\"\u001B[39;49m\u001B[38;5;124;43mget\u001B[39;49m\u001B[38;5;124;43m\"\u001B[39;49m\u001B[43m,\u001B[49m\u001B[43m \u001B[49m\u001B[43murl\u001B[49m\u001B[43m,\u001B[49m\u001B[43m \u001B[49m\u001B[43mparams\u001B[49m\u001B[38;5;241;43m=\u001B[39;49m\u001B[43mparams\u001B[49m\u001B[43m,\u001B[49m\u001B[43m \u001B[49m\u001B[38;5;241;43m*\u001B[39;49m\u001B[38;5;241;43m*\u001B[39;49m\u001B[43mkwargs\u001B[49m\u001B[43m)\u001B[49m\n",
      "File \u001B[0;32m/opt/conda/lib/python3.12/site-packages/requests/api.py:59\u001B[0m, in \u001B[0;36mrequest\u001B[0;34m(method, url, **kwargs)\u001B[0m\n\u001B[1;32m     55\u001B[0m \u001B[38;5;66;03m# By using the 'with' statement we are sure the session is closed, thus we\u001B[39;00m\n\u001B[1;32m     56\u001B[0m \u001B[38;5;66;03m# avoid leaving sockets open which can trigger a ResourceWarning in some\u001B[39;00m\n\u001B[1;32m     57\u001B[0m \u001B[38;5;66;03m# cases, and look like a memory leak in others.\u001B[39;00m\n\u001B[1;32m     58\u001B[0m \u001B[38;5;28;01mwith\u001B[39;00m sessions\u001B[38;5;241m.\u001B[39mSession() \u001B[38;5;28;01mas\u001B[39;00m session:\n\u001B[0;32m---> 59\u001B[0m     \u001B[38;5;28;01mreturn\u001B[39;00m \u001B[43msession\u001B[49m\u001B[38;5;241;43m.\u001B[39;49m\u001B[43mrequest\u001B[49m\u001B[43m(\u001B[49m\u001B[43mmethod\u001B[49m\u001B[38;5;241;43m=\u001B[39;49m\u001B[43mmethod\u001B[49m\u001B[43m,\u001B[49m\u001B[43m \u001B[49m\u001B[43murl\u001B[49m\u001B[38;5;241;43m=\u001B[39;49m\u001B[43murl\u001B[49m\u001B[43m,\u001B[49m\u001B[43m \u001B[49m\u001B[38;5;241;43m*\u001B[39;49m\u001B[38;5;241;43m*\u001B[39;49m\u001B[43mkwargs\u001B[49m\u001B[43m)\u001B[49m\n",
      "File \u001B[0;32m/opt/conda/lib/python3.12/site-packages/requests/sessions.py:589\u001B[0m, in \u001B[0;36mSession.request\u001B[0;34m(self, method, url, params, data, headers, cookies, files, auth, timeout, allow_redirects, proxies, hooks, stream, verify, cert, json)\u001B[0m\n\u001B[1;32m    584\u001B[0m send_kwargs \u001B[38;5;241m=\u001B[39m {\n\u001B[1;32m    585\u001B[0m     \u001B[38;5;124m\"\u001B[39m\u001B[38;5;124mtimeout\u001B[39m\u001B[38;5;124m\"\u001B[39m: timeout,\n\u001B[1;32m    586\u001B[0m     \u001B[38;5;124m\"\u001B[39m\u001B[38;5;124mallow_redirects\u001B[39m\u001B[38;5;124m\"\u001B[39m: allow_redirects,\n\u001B[1;32m    587\u001B[0m }\n\u001B[1;32m    588\u001B[0m send_kwargs\u001B[38;5;241m.\u001B[39mupdate(settings)\n\u001B[0;32m--> 589\u001B[0m resp \u001B[38;5;241m=\u001B[39m \u001B[38;5;28;43mself\u001B[39;49m\u001B[38;5;241;43m.\u001B[39;49m\u001B[43msend\u001B[49m\u001B[43m(\u001B[49m\u001B[43mprep\u001B[49m\u001B[43m,\u001B[49m\u001B[43m \u001B[49m\u001B[38;5;241;43m*\u001B[39;49m\u001B[38;5;241;43m*\u001B[39;49m\u001B[43msend_kwargs\u001B[49m\u001B[43m)\u001B[49m\n\u001B[1;32m    591\u001B[0m \u001B[38;5;28;01mreturn\u001B[39;00m resp\n",
      "File \u001B[0;32m/opt/conda/lib/python3.12/site-packages/requests/sessions.py:703\u001B[0m, in \u001B[0;36mSession.send\u001B[0;34m(self, request, **kwargs)\u001B[0m\n\u001B[1;32m    700\u001B[0m start \u001B[38;5;241m=\u001B[39m preferred_clock()\n\u001B[1;32m    702\u001B[0m \u001B[38;5;66;03m# Send the request\u001B[39;00m\n\u001B[0;32m--> 703\u001B[0m r \u001B[38;5;241m=\u001B[39m \u001B[43madapter\u001B[49m\u001B[38;5;241;43m.\u001B[39;49m\u001B[43msend\u001B[49m\u001B[43m(\u001B[49m\u001B[43mrequest\u001B[49m\u001B[43m,\u001B[49m\u001B[43m \u001B[49m\u001B[38;5;241;43m*\u001B[39;49m\u001B[38;5;241;43m*\u001B[39;49m\u001B[43mkwargs\u001B[49m\u001B[43m)\u001B[49m\n\u001B[1;32m    705\u001B[0m \u001B[38;5;66;03m# Total elapsed time of the request (approximately)\u001B[39;00m\n\u001B[1;32m    706\u001B[0m elapsed \u001B[38;5;241m=\u001B[39m preferred_clock() \u001B[38;5;241m-\u001B[39m start\n",
      "File \u001B[0;32m/opt/conda/lib/python3.12/site-packages/requests/adapters.py:667\u001B[0m, in \u001B[0;36mHTTPAdapter.send\u001B[0;34m(self, request, stream, timeout, verify, cert, proxies)\u001B[0m\n\u001B[1;32m    664\u001B[0m     timeout \u001B[38;5;241m=\u001B[39m TimeoutSauce(connect\u001B[38;5;241m=\u001B[39mtimeout, read\u001B[38;5;241m=\u001B[39mtimeout)\n\u001B[1;32m    666\u001B[0m \u001B[38;5;28;01mtry\u001B[39;00m:\n\u001B[0;32m--> 667\u001B[0m     resp \u001B[38;5;241m=\u001B[39m \u001B[43mconn\u001B[49m\u001B[38;5;241;43m.\u001B[39;49m\u001B[43murlopen\u001B[49m\u001B[43m(\u001B[49m\n\u001B[1;32m    668\u001B[0m \u001B[43m        \u001B[49m\u001B[43mmethod\u001B[49m\u001B[38;5;241;43m=\u001B[39;49m\u001B[43mrequest\u001B[49m\u001B[38;5;241;43m.\u001B[39;49m\u001B[43mmethod\u001B[49m\u001B[43m,\u001B[49m\n\u001B[1;32m    669\u001B[0m \u001B[43m        \u001B[49m\u001B[43murl\u001B[49m\u001B[38;5;241;43m=\u001B[39;49m\u001B[43murl\u001B[49m\u001B[43m,\u001B[49m\n\u001B[1;32m    670\u001B[0m \u001B[43m        \u001B[49m\u001B[43mbody\u001B[49m\u001B[38;5;241;43m=\u001B[39;49m\u001B[43mrequest\u001B[49m\u001B[38;5;241;43m.\u001B[39;49m\u001B[43mbody\u001B[49m\u001B[43m,\u001B[49m\n\u001B[1;32m    671\u001B[0m \u001B[43m        \u001B[49m\u001B[43mheaders\u001B[49m\u001B[38;5;241;43m=\u001B[39;49m\u001B[43mrequest\u001B[49m\u001B[38;5;241;43m.\u001B[39;49m\u001B[43mheaders\u001B[49m\u001B[43m,\u001B[49m\n\u001B[1;32m    672\u001B[0m \u001B[43m        \u001B[49m\u001B[43mredirect\u001B[49m\u001B[38;5;241;43m=\u001B[39;49m\u001B[38;5;28;43;01mFalse\u001B[39;49;00m\u001B[43m,\u001B[49m\n\u001B[1;32m    673\u001B[0m \u001B[43m        \u001B[49m\u001B[43massert_same_host\u001B[49m\u001B[38;5;241;43m=\u001B[39;49m\u001B[38;5;28;43;01mFalse\u001B[39;49;00m\u001B[43m,\u001B[49m\n\u001B[1;32m    674\u001B[0m \u001B[43m        \u001B[49m\u001B[43mpreload_content\u001B[49m\u001B[38;5;241;43m=\u001B[39;49m\u001B[38;5;28;43;01mFalse\u001B[39;49;00m\u001B[43m,\u001B[49m\n\u001B[1;32m    675\u001B[0m \u001B[43m        \u001B[49m\u001B[43mdecode_content\u001B[49m\u001B[38;5;241;43m=\u001B[39;49m\u001B[38;5;28;43;01mFalse\u001B[39;49;00m\u001B[43m,\u001B[49m\n\u001B[1;32m    676\u001B[0m \u001B[43m        \u001B[49m\u001B[43mretries\u001B[49m\u001B[38;5;241;43m=\u001B[39;49m\u001B[38;5;28;43mself\u001B[39;49m\u001B[38;5;241;43m.\u001B[39;49m\u001B[43mmax_retries\u001B[49m\u001B[43m,\u001B[49m\n\u001B[1;32m    677\u001B[0m \u001B[43m        \u001B[49m\u001B[43mtimeout\u001B[49m\u001B[38;5;241;43m=\u001B[39;49m\u001B[43mtimeout\u001B[49m\u001B[43m,\u001B[49m\n\u001B[1;32m    678\u001B[0m \u001B[43m        \u001B[49m\u001B[43mchunked\u001B[49m\u001B[38;5;241;43m=\u001B[39;49m\u001B[43mchunked\u001B[49m\u001B[43m,\u001B[49m\n\u001B[1;32m    679\u001B[0m \u001B[43m    \u001B[49m\u001B[43m)\u001B[49m\n\u001B[1;32m    681\u001B[0m \u001B[38;5;28;01mexcept\u001B[39;00m (ProtocolError, \u001B[38;5;167;01mOSError\u001B[39;00m) \u001B[38;5;28;01mas\u001B[39;00m err:\n\u001B[1;32m    682\u001B[0m     \u001B[38;5;28;01mraise\u001B[39;00m \u001B[38;5;167;01mConnectionError\u001B[39;00m(err, request\u001B[38;5;241m=\u001B[39mrequest)\n",
      "File \u001B[0;32m/opt/conda/lib/python3.12/site-packages/urllib3/connectionpool.py:714\u001B[0m, in \u001B[0;36mHTTPConnectionPool.urlopen\u001B[0;34m(self, method, url, body, headers, retries, redirect, assert_same_host, timeout, pool_timeout, release_conn, chunked, body_pos, **response_kw)\u001B[0m\n\u001B[1;32m    711\u001B[0m     \u001B[38;5;28mself\u001B[39m\u001B[38;5;241m.\u001B[39m_prepare_proxy(conn)\n\u001B[1;32m    713\u001B[0m \u001B[38;5;66;03m# Make the request on the httplib connection object.\u001B[39;00m\n\u001B[0;32m--> 714\u001B[0m httplib_response \u001B[38;5;241m=\u001B[39m \u001B[38;5;28;43mself\u001B[39;49m\u001B[38;5;241;43m.\u001B[39;49m\u001B[43m_make_request\u001B[49m\u001B[43m(\u001B[49m\n\u001B[1;32m    715\u001B[0m \u001B[43m    \u001B[49m\u001B[43mconn\u001B[49m\u001B[43m,\u001B[49m\n\u001B[1;32m    716\u001B[0m \u001B[43m    \u001B[49m\u001B[43mmethod\u001B[49m\u001B[43m,\u001B[49m\n\u001B[1;32m    717\u001B[0m \u001B[43m    \u001B[49m\u001B[43murl\u001B[49m\u001B[43m,\u001B[49m\n\u001B[1;32m    718\u001B[0m \u001B[43m    \u001B[49m\u001B[43mtimeout\u001B[49m\u001B[38;5;241;43m=\u001B[39;49m\u001B[43mtimeout_obj\u001B[49m\u001B[43m,\u001B[49m\n\u001B[1;32m    719\u001B[0m \u001B[43m    \u001B[49m\u001B[43mbody\u001B[49m\u001B[38;5;241;43m=\u001B[39;49m\u001B[43mbody\u001B[49m\u001B[43m,\u001B[49m\n\u001B[1;32m    720\u001B[0m \u001B[43m    \u001B[49m\u001B[43mheaders\u001B[49m\u001B[38;5;241;43m=\u001B[39;49m\u001B[43mheaders\u001B[49m\u001B[43m,\u001B[49m\n\u001B[1;32m    721\u001B[0m \u001B[43m    \u001B[49m\u001B[43mchunked\u001B[49m\u001B[38;5;241;43m=\u001B[39;49m\u001B[43mchunked\u001B[49m\u001B[43m,\u001B[49m\n\u001B[1;32m    722\u001B[0m \u001B[43m\u001B[49m\u001B[43m)\u001B[49m\n\u001B[1;32m    724\u001B[0m \u001B[38;5;66;03m# If we're going to release the connection in ``finally:``, then\u001B[39;00m\n\u001B[1;32m    725\u001B[0m \u001B[38;5;66;03m# the response doesn't need to know about the connection. Otherwise\u001B[39;00m\n\u001B[1;32m    726\u001B[0m \u001B[38;5;66;03m# it will also try to release it and we'll have a double-release\u001B[39;00m\n\u001B[1;32m    727\u001B[0m \u001B[38;5;66;03m# mess.\u001B[39;00m\n\u001B[1;32m    728\u001B[0m response_conn \u001B[38;5;241m=\u001B[39m conn \u001B[38;5;28;01mif\u001B[39;00m \u001B[38;5;129;01mnot\u001B[39;00m release_conn \u001B[38;5;28;01melse\u001B[39;00m \u001B[38;5;28;01mNone\u001B[39;00m\n",
      "File \u001B[0;32m/opt/conda/lib/python3.12/site-packages/urllib3/connectionpool.py:403\u001B[0m, in \u001B[0;36mHTTPConnectionPool._make_request\u001B[0;34m(self, conn, method, url, timeout, chunked, **httplib_request_kw)\u001B[0m\n\u001B[1;32m    401\u001B[0m \u001B[38;5;66;03m# Trigger any extra validation we need to do.\u001B[39;00m\n\u001B[1;32m    402\u001B[0m \u001B[38;5;28;01mtry\u001B[39;00m:\n\u001B[0;32m--> 403\u001B[0m     \u001B[38;5;28;43mself\u001B[39;49m\u001B[38;5;241;43m.\u001B[39;49m\u001B[43m_validate_conn\u001B[49m\u001B[43m(\u001B[49m\u001B[43mconn\u001B[49m\u001B[43m)\u001B[49m\n\u001B[1;32m    404\u001B[0m \u001B[38;5;28;01mexcept\u001B[39;00m (SocketTimeout, BaseSSLError) \u001B[38;5;28;01mas\u001B[39;00m e:\n\u001B[1;32m    405\u001B[0m     \u001B[38;5;66;03m# Py2 raises this as a BaseSSLError, Py3 raises it as socket timeout.\u001B[39;00m\n\u001B[1;32m    406\u001B[0m     \u001B[38;5;28mself\u001B[39m\u001B[38;5;241m.\u001B[39m_raise_timeout(err\u001B[38;5;241m=\u001B[39me, url\u001B[38;5;241m=\u001B[39murl, timeout_value\u001B[38;5;241m=\u001B[39mconn\u001B[38;5;241m.\u001B[39mtimeout)\n",
      "File \u001B[0;32m/opt/conda/lib/python3.12/site-packages/urllib3/connectionpool.py:1053\u001B[0m, in \u001B[0;36mHTTPSConnectionPool._validate_conn\u001B[0;34m(self, conn)\u001B[0m\n\u001B[1;32m   1051\u001B[0m \u001B[38;5;66;03m# Force connect early to allow us to validate the connection.\u001B[39;00m\n\u001B[1;32m   1052\u001B[0m \u001B[38;5;28;01mif\u001B[39;00m \u001B[38;5;129;01mnot\u001B[39;00m \u001B[38;5;28mgetattr\u001B[39m(conn, \u001B[38;5;124m\"\u001B[39m\u001B[38;5;124msock\u001B[39m\u001B[38;5;124m\"\u001B[39m, \u001B[38;5;28;01mNone\u001B[39;00m):  \u001B[38;5;66;03m# AppEngine might not have  `.sock`\u001B[39;00m\n\u001B[0;32m-> 1053\u001B[0m     \u001B[43mconn\u001B[49m\u001B[38;5;241;43m.\u001B[39;49m\u001B[43mconnect\u001B[49m\u001B[43m(\u001B[49m\u001B[43m)\u001B[49m\n\u001B[1;32m   1055\u001B[0m \u001B[38;5;28;01mif\u001B[39;00m \u001B[38;5;129;01mnot\u001B[39;00m conn\u001B[38;5;241m.\u001B[39mis_verified:\n\u001B[1;32m   1056\u001B[0m     warnings\u001B[38;5;241m.\u001B[39mwarn(\n\u001B[1;32m   1057\u001B[0m         (\n\u001B[1;32m   1058\u001B[0m             \u001B[38;5;124m\"\u001B[39m\u001B[38;5;124mUnverified HTTPS request is being made to host \u001B[39m\u001B[38;5;124m'\u001B[39m\u001B[38;5;132;01m%s\u001B[39;00m\u001B[38;5;124m'\u001B[39m\u001B[38;5;124m. \u001B[39m\u001B[38;5;124m\"\u001B[39m\n\u001B[0;32m   (...)\u001B[0m\n\u001B[1;32m   1063\u001B[0m         InsecureRequestWarning,\n\u001B[1;32m   1064\u001B[0m     )\n",
      "File \u001B[0;32m/opt/conda/lib/python3.12/site-packages/urllib3/connection.py:419\u001B[0m, in \u001B[0;36mHTTPSConnection.connect\u001B[0;34m(self)\u001B[0m\n\u001B[1;32m    410\u001B[0m \u001B[38;5;28;01mif\u001B[39;00m (\n\u001B[1;32m    411\u001B[0m     \u001B[38;5;129;01mnot\u001B[39;00m \u001B[38;5;28mself\u001B[39m\u001B[38;5;241m.\u001B[39mca_certs\n\u001B[1;32m    412\u001B[0m     \u001B[38;5;129;01mand\u001B[39;00m \u001B[38;5;129;01mnot\u001B[39;00m \u001B[38;5;28mself\u001B[39m\u001B[38;5;241m.\u001B[39mca_cert_dir\n\u001B[0;32m   (...)\u001B[0m\n\u001B[1;32m    415\u001B[0m     \u001B[38;5;129;01mand\u001B[39;00m \u001B[38;5;28mhasattr\u001B[39m(context, \u001B[38;5;124m\"\u001B[39m\u001B[38;5;124mload_default_certs\u001B[39m\u001B[38;5;124m\"\u001B[39m)\n\u001B[1;32m    416\u001B[0m ):\n\u001B[1;32m    417\u001B[0m     context\u001B[38;5;241m.\u001B[39mload_default_certs()\n\u001B[0;32m--> 419\u001B[0m \u001B[38;5;28mself\u001B[39m\u001B[38;5;241m.\u001B[39msock \u001B[38;5;241m=\u001B[39m \u001B[43mssl_wrap_socket\u001B[49m\u001B[43m(\u001B[49m\n\u001B[1;32m    420\u001B[0m \u001B[43m    \u001B[49m\u001B[43msock\u001B[49m\u001B[38;5;241;43m=\u001B[39;49m\u001B[43mconn\u001B[49m\u001B[43m,\u001B[49m\n\u001B[1;32m    421\u001B[0m \u001B[43m    \u001B[49m\u001B[43mkeyfile\u001B[49m\u001B[38;5;241;43m=\u001B[39;49m\u001B[38;5;28;43mself\u001B[39;49m\u001B[38;5;241;43m.\u001B[39;49m\u001B[43mkey_file\u001B[49m\u001B[43m,\u001B[49m\n\u001B[1;32m    422\u001B[0m \u001B[43m    \u001B[49m\u001B[43mcertfile\u001B[49m\u001B[38;5;241;43m=\u001B[39;49m\u001B[38;5;28;43mself\u001B[39;49m\u001B[38;5;241;43m.\u001B[39;49m\u001B[43mcert_file\u001B[49m\u001B[43m,\u001B[49m\n\u001B[1;32m    423\u001B[0m \u001B[43m    \u001B[49m\u001B[43mkey_password\u001B[49m\u001B[38;5;241;43m=\u001B[39;49m\u001B[38;5;28;43mself\u001B[39;49m\u001B[38;5;241;43m.\u001B[39;49m\u001B[43mkey_password\u001B[49m\u001B[43m,\u001B[49m\n\u001B[1;32m    424\u001B[0m \u001B[43m    \u001B[49m\u001B[43mca_certs\u001B[49m\u001B[38;5;241;43m=\u001B[39;49m\u001B[38;5;28;43mself\u001B[39;49m\u001B[38;5;241;43m.\u001B[39;49m\u001B[43mca_certs\u001B[49m\u001B[43m,\u001B[49m\n\u001B[1;32m    425\u001B[0m \u001B[43m    \u001B[49m\u001B[43mca_cert_dir\u001B[49m\u001B[38;5;241;43m=\u001B[39;49m\u001B[38;5;28;43mself\u001B[39;49m\u001B[38;5;241;43m.\u001B[39;49m\u001B[43mca_cert_dir\u001B[49m\u001B[43m,\u001B[49m\n\u001B[1;32m    426\u001B[0m \u001B[43m    \u001B[49m\u001B[43mca_cert_data\u001B[49m\u001B[38;5;241;43m=\u001B[39;49m\u001B[38;5;28;43mself\u001B[39;49m\u001B[38;5;241;43m.\u001B[39;49m\u001B[43mca_cert_data\u001B[49m\u001B[43m,\u001B[49m\n\u001B[1;32m    427\u001B[0m \u001B[43m    \u001B[49m\u001B[43mserver_hostname\u001B[49m\u001B[38;5;241;43m=\u001B[39;49m\u001B[43mserver_hostname\u001B[49m\u001B[43m,\u001B[49m\n\u001B[1;32m    428\u001B[0m \u001B[43m    \u001B[49m\u001B[43mssl_context\u001B[49m\u001B[38;5;241;43m=\u001B[39;49m\u001B[43mcontext\u001B[49m\u001B[43m,\u001B[49m\n\u001B[1;32m    429\u001B[0m \u001B[43m    \u001B[49m\u001B[43mtls_in_tls\u001B[49m\u001B[38;5;241;43m=\u001B[39;49m\u001B[43mtls_in_tls\u001B[49m\u001B[43m,\u001B[49m\n\u001B[1;32m    430\u001B[0m \u001B[43m\u001B[49m\u001B[43m)\u001B[49m\n\u001B[1;32m    432\u001B[0m \u001B[38;5;66;03m# If we're using all defaults and the connection\u001B[39;00m\n\u001B[1;32m    433\u001B[0m \u001B[38;5;66;03m# is TLSv1 or TLSv1.1 we throw a DeprecationWarning\u001B[39;00m\n\u001B[1;32m    434\u001B[0m \u001B[38;5;66;03m# for the host.\u001B[39;00m\n\u001B[1;32m    435\u001B[0m \u001B[38;5;28;01mif\u001B[39;00m (\n\u001B[1;32m    436\u001B[0m     default_ssl_context\n\u001B[1;32m    437\u001B[0m     \u001B[38;5;129;01mand\u001B[39;00m \u001B[38;5;28mself\u001B[39m\u001B[38;5;241m.\u001B[39mssl_version \u001B[38;5;129;01mis\u001B[39;00m \u001B[38;5;28;01mNone\u001B[39;00m\n\u001B[1;32m    438\u001B[0m     \u001B[38;5;129;01mand\u001B[39;00m \u001B[38;5;28mhasattr\u001B[39m(\u001B[38;5;28mself\u001B[39m\u001B[38;5;241m.\u001B[39msock, \u001B[38;5;124m\"\u001B[39m\u001B[38;5;124mversion\u001B[39m\u001B[38;5;124m\"\u001B[39m)\n\u001B[1;32m    439\u001B[0m     \u001B[38;5;129;01mand\u001B[39;00m \u001B[38;5;28mself\u001B[39m\u001B[38;5;241m.\u001B[39msock\u001B[38;5;241m.\u001B[39mversion() \u001B[38;5;129;01min\u001B[39;00m {\u001B[38;5;124m\"\u001B[39m\u001B[38;5;124mTLSv1\u001B[39m\u001B[38;5;124m\"\u001B[39m, \u001B[38;5;124m\"\u001B[39m\u001B[38;5;124mTLSv1.1\u001B[39m\u001B[38;5;124m\"\u001B[39m}\n\u001B[1;32m    440\u001B[0m ):\n",
      "File \u001B[0;32m/opt/conda/lib/python3.12/site-packages/urllib3/util/ssl_.py:449\u001B[0m, in \u001B[0;36mssl_wrap_socket\u001B[0;34m(sock, keyfile, certfile, cert_reqs, ca_certs, server_hostname, ssl_version, ciphers, ssl_context, ca_cert_dir, key_password, ca_cert_data, tls_in_tls)\u001B[0m\n\u001B[1;32m    437\u001B[0m     warnings\u001B[38;5;241m.\u001B[39mwarn(\n\u001B[1;32m    438\u001B[0m         \u001B[38;5;124m\"\u001B[39m\u001B[38;5;124mAn HTTPS request has been made, but the SNI (Server Name \u001B[39m\u001B[38;5;124m\"\u001B[39m\n\u001B[1;32m    439\u001B[0m         \u001B[38;5;124m\"\u001B[39m\u001B[38;5;124mIndication) extension to TLS is not available on this platform. \u001B[39m\u001B[38;5;124m\"\u001B[39m\n\u001B[0;32m   (...)\u001B[0m\n\u001B[1;32m    445\u001B[0m         SNIMissingWarning,\n\u001B[1;32m    446\u001B[0m     )\n\u001B[1;32m    448\u001B[0m \u001B[38;5;28;01mif\u001B[39;00m send_sni:\n\u001B[0;32m--> 449\u001B[0m     ssl_sock \u001B[38;5;241m=\u001B[39m \u001B[43m_ssl_wrap_socket_impl\u001B[49m\u001B[43m(\u001B[49m\n\u001B[1;32m    450\u001B[0m \u001B[43m        \u001B[49m\u001B[43msock\u001B[49m\u001B[43m,\u001B[49m\u001B[43m \u001B[49m\u001B[43mcontext\u001B[49m\u001B[43m,\u001B[49m\u001B[43m \u001B[49m\u001B[43mtls_in_tls\u001B[49m\u001B[43m,\u001B[49m\u001B[43m \u001B[49m\u001B[43mserver_hostname\u001B[49m\u001B[38;5;241;43m=\u001B[39;49m\u001B[43mserver_hostname\u001B[49m\n\u001B[1;32m    451\u001B[0m \u001B[43m    \u001B[49m\u001B[43m)\u001B[49m\n\u001B[1;32m    452\u001B[0m \u001B[38;5;28;01melse\u001B[39;00m:\n\u001B[1;32m    453\u001B[0m     ssl_sock \u001B[38;5;241m=\u001B[39m _ssl_wrap_socket_impl(sock, context, tls_in_tls)\n",
      "File \u001B[0;32m/opt/conda/lib/python3.12/site-packages/urllib3/util/ssl_.py:493\u001B[0m, in \u001B[0;36m_ssl_wrap_socket_impl\u001B[0;34m(sock, ssl_context, tls_in_tls, server_hostname)\u001B[0m\n\u001B[1;32m    490\u001B[0m     \u001B[38;5;28;01mreturn\u001B[39;00m SSLTransport(sock, ssl_context, server_hostname)\n\u001B[1;32m    492\u001B[0m \u001B[38;5;28;01mif\u001B[39;00m server_hostname:\n\u001B[0;32m--> 493\u001B[0m     \u001B[38;5;28;01mreturn\u001B[39;00m \u001B[43mssl_context\u001B[49m\u001B[38;5;241;43m.\u001B[39;49m\u001B[43mwrap_socket\u001B[49m\u001B[43m(\u001B[49m\u001B[43msock\u001B[49m\u001B[43m,\u001B[49m\u001B[43m \u001B[49m\u001B[43mserver_hostname\u001B[49m\u001B[38;5;241;43m=\u001B[39;49m\u001B[43mserver_hostname\u001B[49m\u001B[43m)\u001B[49m\n\u001B[1;32m    494\u001B[0m \u001B[38;5;28;01melse\u001B[39;00m:\n\u001B[1;32m    495\u001B[0m     \u001B[38;5;28;01mreturn\u001B[39;00m ssl_context\u001B[38;5;241m.\u001B[39mwrap_socket(sock)\n",
      "File \u001B[0;32m/opt/conda/lib/python3.12/ssl.py:455\u001B[0m, in \u001B[0;36mSSLContext.wrap_socket\u001B[0;34m(self, sock, server_side, do_handshake_on_connect, suppress_ragged_eofs, server_hostname, session)\u001B[0m\n\u001B[1;32m    449\u001B[0m \u001B[38;5;28;01mdef\u001B[39;00m\u001B[38;5;250m \u001B[39m\u001B[38;5;21mwrap_socket\u001B[39m(\u001B[38;5;28mself\u001B[39m, sock, server_side\u001B[38;5;241m=\u001B[39m\u001B[38;5;28;01mFalse\u001B[39;00m,\n\u001B[1;32m    450\u001B[0m                 do_handshake_on_connect\u001B[38;5;241m=\u001B[39m\u001B[38;5;28;01mTrue\u001B[39;00m,\n\u001B[1;32m    451\u001B[0m                 suppress_ragged_eofs\u001B[38;5;241m=\u001B[39m\u001B[38;5;28;01mTrue\u001B[39;00m,\n\u001B[1;32m    452\u001B[0m                 server_hostname\u001B[38;5;241m=\u001B[39m\u001B[38;5;28;01mNone\u001B[39;00m, session\u001B[38;5;241m=\u001B[39m\u001B[38;5;28;01mNone\u001B[39;00m):\n\u001B[1;32m    453\u001B[0m     \u001B[38;5;66;03m# SSLSocket class handles server_hostname encoding before it calls\u001B[39;00m\n\u001B[1;32m    454\u001B[0m     \u001B[38;5;66;03m# ctx._wrap_socket()\u001B[39;00m\n\u001B[0;32m--> 455\u001B[0m     \u001B[38;5;28;01mreturn\u001B[39;00m \u001B[38;5;28;43mself\u001B[39;49m\u001B[38;5;241;43m.\u001B[39;49m\u001B[43msslsocket_class\u001B[49m\u001B[38;5;241;43m.\u001B[39;49m\u001B[43m_create\u001B[49m\u001B[43m(\u001B[49m\n\u001B[1;32m    456\u001B[0m \u001B[43m        \u001B[49m\u001B[43msock\u001B[49m\u001B[38;5;241;43m=\u001B[39;49m\u001B[43msock\u001B[49m\u001B[43m,\u001B[49m\n\u001B[1;32m    457\u001B[0m \u001B[43m        \u001B[49m\u001B[43mserver_side\u001B[49m\u001B[38;5;241;43m=\u001B[39;49m\u001B[43mserver_side\u001B[49m\u001B[43m,\u001B[49m\n\u001B[1;32m    458\u001B[0m \u001B[43m        \u001B[49m\u001B[43mdo_handshake_on_connect\u001B[49m\u001B[38;5;241;43m=\u001B[39;49m\u001B[43mdo_handshake_on_connect\u001B[49m\u001B[43m,\u001B[49m\n\u001B[1;32m    459\u001B[0m \u001B[43m        \u001B[49m\u001B[43msuppress_ragged_eofs\u001B[49m\u001B[38;5;241;43m=\u001B[39;49m\u001B[43msuppress_ragged_eofs\u001B[49m\u001B[43m,\u001B[49m\n\u001B[1;32m    460\u001B[0m \u001B[43m        \u001B[49m\u001B[43mserver_hostname\u001B[49m\u001B[38;5;241;43m=\u001B[39;49m\u001B[43mserver_hostname\u001B[49m\u001B[43m,\u001B[49m\n\u001B[1;32m    461\u001B[0m \u001B[43m        \u001B[49m\u001B[43mcontext\u001B[49m\u001B[38;5;241;43m=\u001B[39;49m\u001B[38;5;28;43mself\u001B[39;49m\u001B[43m,\u001B[49m\n\u001B[1;32m    462\u001B[0m \u001B[43m        \u001B[49m\u001B[43msession\u001B[49m\u001B[38;5;241;43m=\u001B[39;49m\u001B[43msession\u001B[49m\n\u001B[1;32m    463\u001B[0m \u001B[43m    \u001B[49m\u001B[43m)\u001B[49m\n",
      "File \u001B[0;32m/opt/conda/lib/python3.12/ssl.py:1041\u001B[0m, in \u001B[0;36mSSLSocket._create\u001B[0;34m(cls, sock, server_side, do_handshake_on_connect, suppress_ragged_eofs, server_hostname, context, session)\u001B[0m\n\u001B[1;32m   1038\u001B[0m             \u001B[38;5;28;01mif\u001B[39;00m timeout \u001B[38;5;241m==\u001B[39m \u001B[38;5;241m0.0\u001B[39m:\n\u001B[1;32m   1039\u001B[0m                 \u001B[38;5;66;03m# non-blocking\u001B[39;00m\n\u001B[1;32m   1040\u001B[0m                 \u001B[38;5;28;01mraise\u001B[39;00m \u001B[38;5;167;01mValueError\u001B[39;00m(\u001B[38;5;124m\"\u001B[39m\u001B[38;5;124mdo_handshake_on_connect should not be specified for non-blocking sockets\u001B[39m\u001B[38;5;124m\"\u001B[39m)\n\u001B[0;32m-> 1041\u001B[0m             \u001B[38;5;28;43mself\u001B[39;49m\u001B[38;5;241;43m.\u001B[39;49m\u001B[43mdo_handshake\u001B[49m\u001B[43m(\u001B[49m\u001B[43m)\u001B[49m\n\u001B[1;32m   1042\u001B[0m \u001B[38;5;28;01mexcept\u001B[39;00m:\n\u001B[1;32m   1043\u001B[0m     \u001B[38;5;28;01mtry\u001B[39;00m:\n",
      "File \u001B[0;32m/opt/conda/lib/python3.12/ssl.py:1319\u001B[0m, in \u001B[0;36mSSLSocket.do_handshake\u001B[0;34m(self, block)\u001B[0m\n\u001B[1;32m   1317\u001B[0m     \u001B[38;5;28;01mif\u001B[39;00m timeout \u001B[38;5;241m==\u001B[39m \u001B[38;5;241m0.0\u001B[39m \u001B[38;5;129;01mand\u001B[39;00m block:\n\u001B[1;32m   1318\u001B[0m         \u001B[38;5;28mself\u001B[39m\u001B[38;5;241m.\u001B[39msettimeout(\u001B[38;5;28;01mNone\u001B[39;00m)\n\u001B[0;32m-> 1319\u001B[0m     \u001B[38;5;28;43mself\u001B[39;49m\u001B[38;5;241;43m.\u001B[39;49m\u001B[43m_sslobj\u001B[49m\u001B[38;5;241;43m.\u001B[39;49m\u001B[43mdo_handshake\u001B[49m\u001B[43m(\u001B[49m\u001B[43m)\u001B[49m\n\u001B[1;32m   1320\u001B[0m \u001B[38;5;28;01mfinally\u001B[39;00m:\n\u001B[1;32m   1321\u001B[0m     \u001B[38;5;28mself\u001B[39m\u001B[38;5;241m.\u001B[39msettimeout(timeout)\n",
      "\u001B[0;31mKeyboardInterrupt\u001B[0m: "
     ]
    }
   ],
   "execution_count": 26
  },
  {
   "metadata": {
    "ExecuteTime": {
     "end_time": "2025-03-05T15:18:34.036004500Z",
     "start_time": "2025-03-04T20:32:37.205782Z"
    }
   },
   "cell_type": "code",
   "source": [
    "print(len(errors))\n",
    "print(errors)"
   ],
   "id": "db7b94633bea701d",
   "outputs": [
    {
     "name": "stdout",
     "output_type": "stream",
     "text": [
      "19\n",
      "['Visualization of HPC simulation data', 'Assessing Effects of Asymmetries, Dynamics, and Failures on a Cloud Simulator', 'Climbing Up Cloud Nine: Performance Enhancement Techniques for Cloud Computing Environments', 'On the elastic optimisation of cloud IaaS environments', 'A Scheme for Improving the Performance of User Authenticity Through Client Validation Process Using Fuzzy Associative Memory (FAM) in Cloud Computing', 'Comparison Study of The Most Common Virtual Machine Load Balancing Algorithms in Large-Scale Cloud Environment Using Cloud Simulator', 'Προσομοίωση υπολογιστικών νέφων', 'Προσομοίωση υπολογιστικών νεφών', 'Simulators for Cloud Computing_ A Survey', 'Architecture and Quality of Cloud Simulators', 'Scalability assurance process in replication and migration using cloud simulator', 'Cluster-based Analysis of Multi-Parameter Distributions in Cloud Simulation Ensembles', 'SecNetworkCloudSim: An Extensible Simulation Tool for Secure Distributed Mobile Applications', 'ECLOUD’18 summary and outlook', 'Investigating Effects of Animated 3D Point Cloud Simulations on Emotional Responses', 'IMPROVE THE EFFICIENCY OF INTERCLOUD LOAD BALANCING USING DIRECTED ACYCLIC GRAPH FOR VERTICAL SCALING', 'Evaluation of Tropical Cloud Simulations between CMIP6 Models and Satellite Observations CyberTraining: Big Data + High-Performance Computing + Atmospheric Sciences', '3D-Spatiotemporal Forecasting the Expansion of Supernova Shells Using Deep Learning toward High-Resolution Galaxy Simulations', 'Efficient Algorithms for Monte Carlo Particle Transport on AI Accelerator Hardware']\n"
     ]
    }
   ],
   "execution_count": 6
  },
  {
   "metadata": {
    "ExecuteTime": {
     "end_time": "2025-03-05T15:18:34.036541400Z",
     "start_time": "2025-03-04T20:32:39.113006Z"
    }
   },
   "cell_type": "code",
   "source": [
    "df.sort_values(by=['relevance_score', 'relative_citation_index'], ascending=False, inplace=True)\n",
    "# df.sort_values(by=['relative_citation_index'], ascending=False, inplace=True)\n",
    "df.to_csv('data/selected-and-sorted-data-all.csv', index=False, sep='|')\n",
    "df.head(100).to_csv('data/selected-and-sorted-data-top-100.csv', index=False, sep='|')"
   ],
   "id": "42e68953b107c467",
   "outputs": [],
   "execution_count": 7
  }
 ],
 "metadata": {
  "kernelspec": {
   "display_name": "Python 3",
   "language": "python",
   "name": "python3"
  },
  "language_info": {
   "codemirror_mode": {
    "name": "ipython",
    "version": 2
   },
   "file_extension": ".py",
   "mimetype": "text/x-python",
   "name": "python",
   "nbconvert_exporter": "python",
   "pygments_lexer": "ipython2",
   "version": "2.7.6"
  }
 },
 "nbformat": 4,
 "nbformat_minor": 5
}
